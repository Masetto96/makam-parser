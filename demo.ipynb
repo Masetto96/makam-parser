{
 "cells": [
  {
   "cell_type": "code",
   "execution_count": 5,
   "metadata": {},
   "outputs": [
    {
     "name": "stdout",
     "output_type": "stream",
     "text": [
      "The key signature of this score has:\n",
      "- B slash-flat\n",
      "- F sharp\n",
      "- C sharp\n",
      "Accidentals found and updated: {'slash-flat', 'quarter-flat', 'sharp', 'quarter-sharp'}\n"
     ]
    }
   ],
   "source": [
    "from TMMFix.parse_makam_xml import fix_m21_parsing_makam\n",
    "\n",
    "FILE_NAME = \"hicaz--sarki--aksaksemai--sezdim_dargin--rifat_ayaydin.xml\"\n",
    "\n",
    "m21_stream_score = fix_m21_parsing_makam(FILE_NAME)"
   ]
  },
  {
   "cell_type": "code",
   "execution_count": null,
   "metadata": {},
   "outputs": [],
   "source": []
  }
 ],
 "metadata": {
  "kernelspec": {
   "display_name": "Python 3",
   "language": "python",
   "name": "python3"
  },
  "language_info": {
   "codemirror_mode": {
    "name": "ipython",
    "version": 3
   },
   "file_extension": ".py",
   "mimetype": "text/x-python",
   "name": "python",
   "nbconvert_exporter": "python",
   "pygments_lexer": "ipython3",
   "version": "3.11.2"
  }
 },
 "nbformat": 4,
 "nbformat_minor": 2
}
