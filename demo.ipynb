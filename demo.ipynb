{
 "cells": [
  {
   "cell_type": "code",
   "execution_count": null,
   "metadata": {},
   "outputs": [],
   "source": [
    "from TMMFix.parse_makam_xml import fix_m21_parsing_makam\n",
    "import matplotlib.pyplot as plt\n",
    "FILE_NAME = \"hicaz--sarki--aksaksemai--sezdim_dargin--rifat_ayaydin.xml\"\n",
    "\n",
    "m21_stream_score = fix_m21_parsing_makam(FILE_NAME)"
   ]
  },
  {
   "cell_type": "code",
   "execution_count": null,
   "metadata": {},
   "outputs": [],
   "source": [
    "for n in m21_stream_score:\n",
    "    print(n.pitch.alter)\n",
    "    print(n.pitch.accidental)\n",
    "    print(n.pitch.microtone, \"\\n\")"
   ]
  },
  {
   "cell_type": "code",
   "execution_count": null,
   "metadata": {},
   "outputs": [],
   "source": [
    "accidentals = []\n",
    "microtones = []\n",
    "\n",
    "for n in m21_stream_score:\n",
    "    if n.pitch.accidental is not None:\n",
    "        accidentals.append(n.pitch.accidental.name)\n",
    "        microtones.append(n.pitch.microtone.cents)\n",
    "\n",
    "# Plotting\n",
    "plt.figure(figsize=(10, 6))\n",
    "plt.scatter(accidentals, microtones, marker='o', linestyle='-', color='green')\n",
    "\n",
    "# Annotate each point with its microtone value\n",
    "for x, y in zip(accidentals, microtones):\n",
    "    plt.text(x, y+2, str(y), ha='center', va='bottom')\n",
    "\n",
    "\n",
    "plt.title('Accidentals and their respective Microtone value')\n",
    "plt.xlabel('Accidental type')\n",
    "plt.ylabel('Microtone in cents')\n",
    "plt.grid(True)\n",
    "plt.show()"
   ]
  },
  {
   "cell_type": "code",
   "execution_count": null,
   "metadata": {},
   "outputs": [],
   "source": [
    "m21_stream_score.plot('histogram', 'pitchspace')"
   ]
  }
 ],
 "metadata": {
  "kernelspec": {
   "display_name": "Python 3",
   "language": "python",
   "name": "python3"
  },
  "language_info": {
   "codemirror_mode": {
    "name": "ipython",
    "version": 3
   },
   "file_extension": ".py",
   "mimetype": "text/x-python",
   "name": "python",
   "nbconvert_exporter": "python",
   "pygments_lexer": "ipython3",
   "version": "3.11.2"
  }
 },
 "nbformat": 4,
 "nbformat_minor": 2
}
